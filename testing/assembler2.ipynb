{
 "cells": [
  {
   "cell_type": "code",
   "execution_count": null,
   "metadata": {},
   "outputs": [],
   "source": []
  }
 ],
 "metadata": {
  "kernelspec": {
   "display_name": "Python 3.9.7 ('base')",
   "language": "python",
   "name": "python3"
  },
  "language_info": {
   "name": "python",
   "version": "3.9.7"
  },
  "orig_nbformat": 4,
  "vscode": {
   "interpreter": {
    "hash": "8139efdc4ccbd28e2239dc8ab38306d1c618d5b46a0f5cfc0b41fe6060f82dab"
   }
  }
 },
 "nbformat": 4,
 "nbformat_minor": 2
}
